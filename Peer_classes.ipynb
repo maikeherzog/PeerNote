{
  "nbformat": 4,
  "nbformat_minor": 0,
  "metadata": {
    "colab": {
      "provenance": []
    },
    "kernelspec": {
      "name": "python3",
      "display_name": "Python 3"
    },
    "language_info": {
      "name": "python"
    }
  },
  "cells": [
    {
      "cell_type": "code",
      "source": [
        "import socket\n",
        "import threading\n",
        "import uuid\n",
        "import json\n",
        "import hashlib\n",
        "import time"
      ],
      "metadata": {
        "id": "C3qACcbMvIJw"
      },
      "execution_count": 1,
      "outputs": []
    },
    {
      "cell_type": "code",
      "source": [
        "### Max 5 connections ==> ändern?"
      ],
      "metadata": {
        "id": "azs4V2-43CNh"
      },
      "execution_count": null,
      "outputs": []
    },
    {
      "cell_type": "code",
      "execution_count": 16,
      "metadata": {
        "id": "he0Ep1xErlzJ"
      },
      "outputs": [],
      "source": [
        "class Peer_node:\n",
        "  def __init__(self, host, port):\n",
        "    self.host=host\n",
        "    self.port=port\n",
        "\n",
        "    combined_host_port = f\"{host}:{port}\"\n",
        "    self.node_id=hashlib.sha256(combined_host_port.encode()).hexdigest() ## Id of node is hash of ip and port\n",
        "\n",
        "    self.peers = {}\n",
        "    self.data_store = {}\n",
        "    self.server_socket = None\n",
        "    self.running = False\n",
        "\n",
        "    print(f\"Node {self.node_id} initialized at {self.host}:{self.port}\")\n",
        "\n",
        "  ### Node Properties\n",
        "  def get_id(self):\n",
        "    return self.node_id\n",
        "\n",
        "  def get_host(self):\n",
        "    return self.host\n",
        "\n",
        "  def get_port(self):\n",
        "    return self.port\n",
        "\n",
        "  def get_peers(self):\n",
        "    return self.peers\n",
        "\n",
        "  ### Connection to and communication with other peers\n",
        "\n",
        "  def start(self):\n",
        "        \"\"\"Starts the node, listening for incoming connections.\"\"\"\n",
        "        self.server_socket = socket.socket(socket.AF_INET, socket.SOCK_STREAM)\n",
        "        self.server_socket.setsockopt(socket.SOL_SOCKET, socket.SO_REUSEADDR, 1)\n",
        "        self.server_socket.bind((self.host, self.port))\n",
        "        self.server_socket.listen(5) # Max 5 queued connections\n",
        "        self.running = True\n",
        "        print(f\"Node {self.node_id} listening on {self.host}:{self.port}\")\n",
        "\n",
        "        # Start a new thread to continuously accept connections\n",
        "        threading.Thread(target=self._accept_connections, daemon=True).start()\n",
        "\n",
        "  def _accept_connections(self):\n",
        "        \"\"\"Internal method to accept incoming connections.\"\"\"\n",
        "        while self.running:\n",
        "            try:\n",
        "                conn, addr = self.server_socket.accept()\n",
        "                print(f\"Incoming connection from {addr}\")\n",
        "                # Handle connection in a new thread\n",
        "                threading.Thread(target=self._handle_client_connection, args=(conn, addr), daemon=True).start()\n",
        "            except Exception as e:\n",
        "                if self.running:\n",
        "                    print(f\"Error accepting connection: {e}\")\n",
        "                break\n",
        "\n",
        "  def _handle_client_connection(self, conn, addr):\n",
        "        \"\"\"Handles a single client connection (a peer).\"\"\"\n",
        "        try:\n",
        "            # First, receive the peer's node_id and address\n",
        "            initial_data = conn.recv(1024).decode('utf-8')\n",
        "            peer_info = json.loads(initial_data)\n",
        "            peer_id = peer_info.get('node_id')\n",
        "            peer_host = peer_info.get('host')\n",
        "            peer_port = peer_info.get('port')\n",
        "\n",
        "            if peer_id and peer_host and peer_port:\n",
        "                print(f\"Received peer info from {peer_id} at {peer_host}:{peer_port}\")\n",
        "                self.add_peer(peer_id, conn, (peer_host, peer_port))\n",
        "                #self.send_message_to_peer(peer_id, \"ACK: Connected!\") # Acknowledge connection\n",
        "                # Send our own node info to the peer\n",
        "                my_info = json.dumps({'node_id': self.node_id, 'host': self.host, 'port': self.port})\n",
        "                conn.sendall(my_info.encode('utf-8'))\n",
        "\n",
        "                while True:\n",
        "                    data = conn.recv(4096)\n",
        "                    if not data:\n",
        "                        print(f\"Peer {peer_id} disconnected.\")\n",
        "                        #self.remove_peer(peer_id)                                #####?????\n",
        "                        break\n",
        "                    message = json.loads(data.decode('utf-8'))\n",
        "                    self.process_message(peer_id, message)\n",
        "            else:\n",
        "                print(f\"Invalid initial data from {addr}. Closing connection.\")\n",
        "                conn.close()\n",
        "\n",
        "        except Exception as e:\n",
        "            print(f\"Error handling client connection from {addr}: {e}\")\n",
        "            conn.close()\n",
        "            # If peer was added, remove it\n",
        "            for peer_id, (socket_obj, _) in list(self.peers.items()):\n",
        "                if socket_obj == conn:\n",
        "                    self.remove_peer(peer_id)\n",
        "                    break\n",
        "\n",
        "\n",
        "  def connect_to_peer(self, peer_host, peer_port):\n",
        "        \"\"\"Connects to another peer node.\"\"\"\n",
        "        if (peer_host, peer_port) == (self.host, self.port):\n",
        "            print(\"Cannot connect to self.\")\n",
        "            return False\n",
        "\n",
        "        try:\n",
        "            s = socket.socket(socket.AF_INET, socket.SOCK_STREAM)\n",
        "            s.connect((peer_host, peer_port))\n",
        "\n",
        "            # Send our own node info to the peer\n",
        "            my_info = json.dumps({'node_id': self.node_id, 'host': self.host, 'port': self.port})\n",
        "            s.sendall(my_info.encode('utf-8'))\n",
        "\n",
        "            # Wait for peer's ack and initial info\n",
        "            response = s.recv(1024).decode('utf-8')\n",
        "            response_data = json.loads(response)\n",
        "            peer_id = response_data.get('node_id') # Assume peer also sends its ID back\n",
        "\n",
        "            if peer_id and peer_id not in self.peers:\n",
        "                print(f\"Successfully connected to peer {peer_id} at {peer_host}:{peer_port}\")\n",
        "                self.add_peer(peer_id, s, (peer_host, peer_port))\n",
        "\n",
        "                # Start a thread to listen for messages from this peer\n",
        "                threading.Thread(target=self._listen_to_peer, args=(peer_id, s), daemon=True).start()\n",
        "                return True\n",
        "            else:\n",
        "                print(f\"Already connected to or invalid response from {peer_host}:{peer_port}\")\n",
        "                s.close()\n",
        "                return False\n",
        "        except Exception as e:\n",
        "            print(f\"Could not connect to peer {peer_host}:{peer_port}: {e}\")\n",
        "            return False\n",
        "\n",
        "  def _listen_to_peer(self, peer_id, sock):\n",
        "        \"\"\"Listens for messages from a specific connected peer.\"\"\"\n",
        "        try:\n",
        "            while True:\n",
        "                data = sock.recv(4096)\n",
        "                if not data:\n",
        "                    print(f\"Peer {peer_id} disconnected during listen.\")\n",
        "                    #self.remove_peer(peer_id)                                  #### ???\n",
        "                    break\n",
        "                message = json.loads(data.decode('utf-8'))\n",
        "                self.process_message(peer_id, message)\n",
        "        except Exception as e:\n",
        "            print(f\"Error listening to peer {peer_id}: {e}\")\n",
        "            self.remove_peer(peer_id)\n",
        "\n",
        "  def add_peer(self, peer_id, socket_obj, address_tuple):\n",
        "        \"\"\"Adds a new peer to the node's peer list.\"\"\"\n",
        "        if peer_id not in self.peers:\n",
        "            self.peers[peer_id] = (socket_obj, address_tuple)\n",
        "            print(f\"Added peer: {peer_id} from {address_tuple}\")\n",
        "        else:\n",
        "            print(f\"Peer {peer_id} already in peer list.\")\n",
        "\n",
        "  def remove_peer(self, peer_id):\n",
        "        \"\"\"Removes a peer from the node's peer list.\"\"\"\n",
        "        if peer_id in self.peers:\n",
        "            socket_obj, _ = self.peers[peer_id]\n",
        "            try:\n",
        "                socket_obj.close()\n",
        "            except Exception as e:\n",
        "                print(f\"Error closing socket for peer {peer_id}: {e}\")\n",
        "            del self.peers[peer_id]\n",
        "            print(f\"Removed peer: {peer_id}\")\n",
        "\n",
        "  def send_message_to_peer(self, peer_id, message_type, content=None):\n",
        "        \"\"\"Sends a message to a specific peer.\"\"\"\n",
        "        if peer_id in self.peers:\n",
        "            sock, _ = self.peers[peer_id]\n",
        "            try:\n",
        "                full_message = {'sender_id': self.node_id, 'type': message_type, 'content': content}\n",
        "                sock.sendall(json.dumps(full_message).encode('utf-8'))\n",
        "                print(f\"Sent '{message_type}' to {peer_id}\")\n",
        "            except Exception as e:\n",
        "                print(f\"Error sending message to {peer_id}: {e}\")\n",
        "                self.remove_peer(peer_id)\n",
        "        else:\n",
        "            print(f\"Peer {peer_id} not found in peer list.\")\n",
        "\n",
        "  def broadcast_message(self, message_type, content=None):\n",
        "        \"\"\"Sends a message to all connected peers.\"\"\"\n",
        "        print(f\"Broadcasting message: Type={message_type}, Content={content}\")\n",
        "        for peer_id in list(self.peers.keys()): # Use list to avoid issues if peers are removed during iteration\n",
        "            self.send_message_to_peer(peer_id, message_type, content)\n",
        "\n",
        "  def process_message(self, sender_id, message):\n",
        "        \"\"\"Processes an incoming message from a peer.\"\"\"\n",
        "        message_type = message.get('type')\n",
        "        content = message.get('content')\n",
        "        print(f\"Node {self.node_id} received message from {sender_id}: Type='{message_type}', Content='{content}'\")\n",
        "\n",
        "        if message_type == 'text_message':\n",
        "            print(f\"  > Text message: {content}\")\n",
        "        elif message_type == 'data_request':\n",
        "            key = content.get('key')\n",
        "            if key in self.data_store:\n",
        "                self.send_message_to_peer(sender_id, 'data_response', {'key': key, 'value': self.data_store[key]})\n",
        "            else:\n",
        "                self.send_message_to_peer(sender_id, 'data_response', {'key': key, 'value': None, 'error': 'not_found'})\n",
        "        elif message_type == 'data_update':\n",
        "            key = content.get('key')\n",
        "            value = content.get('value')\n",
        "            self.data_store[key] = value\n",
        "            print(f\"  > Stored data: {key} = {value}\")\n",
        "            # Optionally, rebroadcast the update to other peers\n",
        "            # self.broadcast_message('data_update', content)\n",
        "        elif message_type == 'get_peers':\n",
        "            # Send back a list of this node's known peers (host, port)\n",
        "            peer_addresses = [peer_info[1] for peer_info in self.peers.values()]\n",
        "            self.send_message_to_peer(sender_id, 'peer_list', {'peers': peer_addresses})\n",
        "        elif message_type == 'peer_list':\n",
        "            # Add newly discovered peers to our list\n",
        "            new_peers = content.get('peers', [])\n",
        "            for peer_host, peer_port in new_peers:\n",
        "                if (peer_host, peer_port) != (self.host, self.port) and (peer_host, peer_port) not in [p[1] for p in self.peers.values()]:\n",
        "                    print(f\"Attempting to connect to new peer: {peer_host}:{peer_port}\")\n",
        "                    self.connect_to_peer(peer_host, peer_port)\n",
        "\n",
        "  def stop(self):\n",
        "        \"\"\"Stops the node and closes all connections.\"\"\"\n",
        "        self.running = False\n",
        "        if self.server_socket:\n",
        "            print(f\"Closing server socket for Node {self.node_id}.\")\n",
        "            self.server_socket.close()\n",
        "        for peer_id in list(self.peers.keys()):\n",
        "            self.remove_peer(peer_id)\n",
        "        print(f\"Node {self.node_id} stopped.\")\n",
        "\n",
        "  ### Data needs to be ajusted\n",
        "  def add_data(self,data):\n",
        "    self.data_store.add(data)\n",
        "\n",
        "  def get_data(self):\n",
        "    return self.data_store\n",
        "\n",
        "  def remove_data(self,data):\n",
        "    self.data_store.remove(data)"
      ]
    },
    {
      "cell_type": "code",
      "source": [
        "node1 = Peer_node(\"127.0.0.1\", 8007)\n",
        "node2 = Peer_node(\"127.0.0.1\", 8008)\n",
        "node3 = Peer_node(\"127.0.0.1\", 8009)\n",
        "\n",
        "node1.start()\n",
        "node2.start()\n",
        "node3.start()\n",
        "\n",
        "time.sleep(1) # Give servers a moment to start"
      ],
      "metadata": {
        "colab": {
          "base_uri": "https://localhost:8080/"
        },
        "id": "QoeSCQHY1E92",
        "outputId": "913c749c-ef20-4fbb-8ef8-bf21774834a5"
      },
      "execution_count": 19,
      "outputs": [
        {
          "output_type": "stream",
          "name": "stdout",
          "text": [
            "Node 354f8a05c517336e1929050f3db9e20517757ea252984a2793af897142938c1f initialized at 127.0.0.1:8007\n",
            "Node fbd7416735a39a2abca7227cfec89912a777fa71e328bea87bc1a95425ca9aaf initialized at 127.0.0.1:8008\n",
            "Node b9284ee4c4a27d1d0cb292a9cc2088a430d75bb5b2426430239ec106fd2a6cfc initialized at 127.0.0.1:8009\n",
            "Node 354f8a05c517336e1929050f3db9e20517757ea252984a2793af897142938c1f listening on 127.0.0.1:8007\n",
            "Node fbd7416735a39a2abca7227cfec89912a777fa71e328bea87bc1a95425ca9aaf listening on 127.0.0.1:8008\n",
            "Node b9284ee4c4a27d1d0cb292a9cc2088a430d75bb5b2426430239ec106fd2a6cfc listening on 127.0.0.1:8009\n"
          ]
        }
      ]
    },
    {
      "cell_type": "code",
      "source": [
        "print(\"Node1\", node1.get_id())\n",
        "print(\"Node2\", node2.get_id())\n",
        "print(\"Node3\", node3.get_id())"
      ],
      "metadata": {
        "colab": {
          "base_uri": "https://localhost:8080/"
        },
        "id": "YZt7wKdu-Lpv",
        "outputId": "125c99b3-df5a-4cb0-949f-a863ba70d23d"
      },
      "execution_count": 20,
      "outputs": [
        {
          "output_type": "stream",
          "name": "stdout",
          "text": [
            "Node1 354f8a05c517336e1929050f3db9e20517757ea252984a2793af897142938c1f\n",
            "Node2 fbd7416735a39a2abca7227cfec89912a777fa71e328bea87bc1a95425ca9aaf\n",
            "Node3 b9284ee4c4a27d1d0cb292a9cc2088a430d75bb5b2426430239ec106fd2a6cfc\n"
          ]
        }
      ]
    },
    {
      "cell_type": "code",
      "source": [
        " # Connect nodes\n",
        "node1.connect_to_peer(\"127.0.0.1\", 8008)\n",
        "time.sleep(1)\n",
        "node2.connect_to_peer(\"127.0.0.1\", 8009)\n",
        "time.sleep(1)\n",
        "node3.connect_to_peer(\"127.0.0.1\", 8007) # Form a mesh-like connection\n",
        "\n",
        "time.sleep(2) # Give connections a moment to establish\n",
        "\n",
        "print(\"\\n--- Sending Messages ---\")\n",
        "node1.send_message_to_peer(node2.node_id, 'text_message', 'Hello from Node 1 to Node 2!')\n",
        "time.sleep(0.5)\n",
        "node2.broadcast_message('text_message', 'Greetings from Node 2 to everyone!')\n",
        "time.sleep(0.5)\n",
        "\n",
        "print(\"\\n--- Data Operations ---\")\n",
        "node1.send_message_to_peer(node2.node_id, 'data_update', {'key': 'my_data', 'value': 'secret_value'})\n",
        "time.sleep(0.5)\n",
        "node3.send_message_to_peer(node1.node_id, 'data_request', {'key': 'my_data'})\n",
        "time.sleep(0.5)\n",
        "node3.send_message_to_peer(node2.node_id, 'data_request', {'key': 'non_existent_key'})\n",
        "time.sleep(0.5)\n",
        "\n",
        "print(\"\\n--- Peer Discovery Example ---\")\n",
        "# Node 1 asks Node 2 for its peers\n",
        "node1.send_message_to_peer(node2.node_id, 'get_peers')\n",
        "time.sleep(1) # Give time for peer list to be sent back and processed"
      ],
      "metadata": {
        "colab": {
          "base_uri": "https://localhost:8080/"
        },
        "id": "kfaDeGlw1jlo",
        "outputId": "878366c3-4b91-490c-e446-36e979181df1"
      },
      "execution_count": 21,
      "outputs": [
        {
          "output_type": "stream",
          "name": "stdout",
          "text": [
            "Incoming connection from ('127.0.0.1', 34302)\n",
            "Received peer info from 354f8a05c517336e1929050f3db9e20517757ea252984a2793af897142938c1f at 127.0.0.1:8007\n",
            "Added peer: 354f8a05c517336e1929050f3db9e20517757ea252984a2793af897142938c1f from ('127.0.0.1', 8007)\n",
            "Successfully connected to peer fbd7416735a39a2abca7227cfec89912a777fa71e328bea87bc1a95425ca9aaf at 127.0.0.1:8008\n",
            "Added peer: fbd7416735a39a2abca7227cfec89912a777fa71e328bea87bc1a95425ca9aaf from ('127.0.0.1', 8008)\n",
            "Incoming connection from ('127.0.0.1', 41748)\n",
            "Received peer info from fbd7416735a39a2abca7227cfec89912a777fa71e328bea87bc1a95425ca9aaf at 127.0.0.1:8008\n",
            "Added peer: fbd7416735a39a2abca7227cfec89912a777fa71e328bea87bc1a95425ca9aaf from ('127.0.0.1', 8008)\n",
            "Successfully connected to peer b9284ee4c4a27d1d0cb292a9cc2088a430d75bb5b2426430239ec106fd2a6cfc at 127.0.0.1:8009\n",
            "Added peer: b9284ee4c4a27d1d0cb292a9cc2088a430d75bb5b2426430239ec106fd2a6cfc from ('127.0.0.1', 8009)\n",
            "Incoming connection from ('127.0.0.1', 40390)\n",
            "Received peer info from b9284ee4c4a27d1d0cb292a9cc2088a430d75bb5b2426430239ec106fd2a6cfc at 127.0.0.1:8009\n",
            "Added peer: b9284ee4c4a27d1d0cb292a9cc2088a430d75bb5b2426430239ec106fd2a6cfc from ('127.0.0.1', 8009)\n",
            "Successfully connected to peer 354f8a05c517336e1929050f3db9e20517757ea252984a2793af897142938c1f at 127.0.0.1:8007\n",
            "Added peer: 354f8a05c517336e1929050f3db9e20517757ea252984a2793af897142938c1f from ('127.0.0.1', 8007)\n",
            "\n",
            "--- Data Operations ---\n",
            "Node fbd7416735a39a2abca7227cfec89912a777fa71e328bea87bc1a95425ca9aaf received message from 354f8a05c517336e1929050f3db9e20517757ea252984a2793af897142938c1f: Type='data_update', Content='{'key': 'my_data', 'value': 'secret_value'}'\n",
            "  > Stored data: my_data = secret_value\n",
            "Sent 'data_update' to fbd7416735a39a2abca7227cfec89912a777fa71e328bea87bc1a95425ca9aaf\n",
            "Sent 'data_request' to 354f8a05c517336e1929050f3db9e20517757ea252984a2793af897142938c1fNode 354f8a05c517336e1929050f3db9e20517757ea252984a2793af897142938c1f received message from b9284ee4c4a27d1d0cb292a9cc2088a430d75bb5b2426430239ec106fd2a6cfc: Type='data_request', Content='{'key': 'my_data'}'\n",
            "\n",
            "Node b9284ee4c4a27d1d0cb292a9cc2088a430d75bb5b2426430239ec106fd2a6cfc received message from 354f8a05c517336e1929050f3db9e20517757ea252984a2793af897142938c1f: Type='data_response', Content='{'key': 'my_data', 'value': None, 'error': 'not_found'}'\n",
            "Sent 'data_response' to b9284ee4c4a27d1d0cb292a9cc2088a430d75bb5b2426430239ec106fd2a6cfc\n",
            "Sent 'data_request' to fbd7416735a39a2abca7227cfec89912a777fa71e328bea87bc1a95425ca9aafNode fbd7416735a39a2abca7227cfec89912a777fa71e328bea87bc1a95425ca9aaf received message from b9284ee4c4a27d1d0cb292a9cc2088a430d75bb5b2426430239ec106fd2a6cfc: Type='data_request', Content='{'key': 'non_existent_key'}'\n",
            "\n",
            "Node b9284ee4c4a27d1d0cb292a9cc2088a430d75bb5b2426430239ec106fd2a6cfc received message from fbd7416735a39a2abca7227cfec89912a777fa71e328bea87bc1a95425ca9aaf: Type='data_response', Content='{'key': 'non_existent_key', 'value': None, 'error': 'not_found'}'\n",
            "Sent 'data_response' to b9284ee4c4a27d1d0cb292a9cc2088a430d75bb5b2426430239ec106fd2a6cfc\n",
            "\n",
            "--- Peer Discovery Example ---\n",
            "Node fbd7416735a39a2abca7227cfec89912a777fa71e328bea87bc1a95425ca9aaf received message from 354f8a05c517336e1929050f3db9e20517757ea252984a2793af897142938c1f: Type='get_peers', Content='None'\n",
            "Sent 'get_peers' to fbd7416735a39a2abca7227cfec89912a777fa71e328bea87bc1a95425ca9aaf\n",
            "Sent 'peer_list' to 354f8a05c517336e1929050f3db9e20517757ea252984a2793af897142938c1f\n",
            "Node 354f8a05c517336e1929050f3db9e20517757ea252984a2793af897142938c1f received message from fbd7416735a39a2abca7227cfec89912a777fa71e328bea87bc1a95425ca9aaf: Type='peer_list', Content='{'peers': [['127.0.0.1', 8007], ['127.0.0.1', 8009]]}'\n"
          ]
        }
      ]
    },
    {
      "cell_type": "code",
      "source": [
        "print(node1.get_peers())\n",
        "# print(node2.get_peers())\n",
        "# print(node3.get_peers()"
      ],
      "metadata": {
        "id": "QyjY0Fg7Igvw",
        "outputId": "5e6ddbe5-5c06-47ff-b0c4-192976542b9d",
        "colab": {
          "base_uri": "https://localhost:8080/"
        }
      },
      "execution_count": 6,
      "outputs": [
        {
          "output_type": "stream",
          "name": "stdout",
          "text": [
            "{'595ae01ad7880d5b6bc138782c0acfc41a568eb813b34f51cfd219a9de0cd6be': (<socket.socket fd=56, family=2, type=1, proto=0, laddr=('127.0.0.1', 58188), raddr=('127.0.0.1', 8002)>, ('127.0.0.1', 8002)), 'a0c9a9eff820c8c0c32a51b241c388d978cefcfb08c9204d34157be6ee178311': (<socket.socket fd=51, family=2, type=1, proto=0, laddr=('127.0.0.1', 8001), raddr=('127.0.0.1', 51226)>, ('127.0.0.1', 8003))}\n"
          ]
        }
      ]
    },
    {
      "cell_type": "code",
      "source": [
        "print(\"Stopping nodes...\")\n",
        "node1.stop()\n",
        "node2.stop()\n",
        "node3.stop()"
      ],
      "metadata": {
        "colab": {
          "base_uri": "https://localhost:8080/"
        },
        "id": "7M3k8Fxu1KyF",
        "outputId": "cae80f75-b565-4cc5-fece-688d29c393cc"
      },
      "execution_count": 17,
      "outputs": [
        {
          "output_type": "stream",
          "name": "stdout",
          "text": [
            "Stopping nodes...\n",
            "Closing server socket for Node 6ec3d7e5c286923599d32a4e22b5621c8f71c05b683a22a2346507a1c2130f7e.\n",
            "Node 6ec3d7e5c286923599d32a4e22b5621c8f71c05b683a22a2346507a1c2130f7e stopped.\n",
            "Closing server socket for Node 01518d57f4f9ee015d52f4be059bf95de672f95467ee4e6d52037bb076f6eccf.\n",
            "Node 01518d57f4f9ee015d52f4be059bf95de672f95467ee4e6d52037bb076f6eccf stopped.\n",
            "Closing server socket for Node bda80c3e1dc11723ab45f6c7d89ecc9eaab856f08f5ba3bfc9307ef2c57eb6db.\n",
            "Node bda80c3e1dc11723ab45f6c7d89ecc9eaab856f08f5ba3bfc9307ef2c57eb6db stopped.\n"
          ]
        }
      ]
    }
  ]
}